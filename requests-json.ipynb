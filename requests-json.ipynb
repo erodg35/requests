{
 "cells": [
  {
   "cell_type": "code",
   "execution_count": 1,
   "metadata": {},
   "outputs": [],
   "source": [
    "import requests"
   ]
  },
  {
   "cell_type": "code",
   "execution_count": 20,
   "metadata": {},
   "outputs": [],
   "source": [
    "#https://api.nasa.gov/#getting-started\n",
    "site = \"https://api.nasa.gov/planetary/apod?api_key=NNKOjkoul8n1CH18TWA9gwngW1s1SmjESPjNoUFo\""
   ]
  },
  {
   "cell_type": "code",
   "execution_count": 21,
   "metadata": {},
   "outputs": [
    {
     "name": "stdout",
     "output_type": "stream",
     "text": [
      "https://api.nasa.gov/planetary/apod?api_key=NNKOjkoul8n1CH18TWA9gwngW1s1SmjESPjNoUFo\n"
     ]
    }
   ],
   "source": [
    "print(site)"
   ]
  },
  {
   "cell_type": "code",
   "execution_count": 22,
   "metadata": {},
   "outputs": [],
   "source": [
    "r = requests.get(site)"
   ]
  },
  {
   "cell_type": "code",
   "execution_count": 5,
   "metadata": {},
   "outputs": [
    {
     "name": "stdout",
     "output_type": "stream",
     "text": [
      "<Response [200]>\n"
     ]
    }
   ],
   "source": [
    "print(r)"
   ]
  },
  {
   "cell_type": "code",
   "execution_count": 6,
   "metadata": {},
   "outputs": [
    {
     "name": "stdout",
     "output_type": "stream",
     "text": [
      "{'date': '2019-05-06', 'explanation': 'What would it look like to fly over a spiral galaxy? To help visualize this, astronomers and animators at the Space Telescope Science Institute computed a virtual flyby of the Whirlpool Galaxy (M51) using data and images from the Hubble Space Telescope.  At only 25 million light years distant and fully 50 thousand light years across, the Whirlpool is one of the brightest and most picturesque galaxies on the sky. Visible during the virtual flyby are spiral arms dominated by young blue stars, older lighter-colored stars, dark lanes of dust, and bright red emission nebulae. Many galaxies far in the distance can be seen right through M51.  The visualization should be considered a time-lapse, because otherwise the speed of the virtual camera would need to be very near the speed of light.', 'media_type': 'video', 'service_version': 'v1', 'title': 'Virtual Flyby of the Whirlpool Galaxy', 'url': 'https://www.youtube.com/embed/HBhqr0KkntQ?rel=0'}\n"
     ]
    }
   ],
   "source": [
    "print(r.json())"
   ]
  },
  {
   "cell_type": "code",
   "execution_count": 7,
   "metadata": {},
   "outputs": [
    {
     "name": "stdout",
     "output_type": "stream",
     "text": [
      "{'date': '2019-05-06', 'explanation': 'What would it look like to fly over a spiral galaxy? To help visualize this, astronomers and animators at the Space Telescope Science Institute computed a virtual flyby of the Whirlpool Galaxy (M51) using data and images from the Hubble Space Telescope.  At only 25 million light years distant and fully 50 thousand light years across, the Whirlpool is one of the brightest and most picturesque galaxies on the sky. Visible during the virtual flyby are spiral arms dominated by young blue stars, older lighter-colored stars, dark lanes of dust, and bright red emission nebulae. Many galaxies far in the distance can be seen right through M51.  The visualization should be considered a time-lapse, because otherwise the speed of the virtual camera would need to be very near the speed of light.', 'media_type': 'video', 'service_version': 'v1', 'title': 'Virtual Flyby of the Whirlpool Galaxy', 'url': 'https://www.youtube.com/embed/HBhqr0KkntQ?rel=0'}\n"
     ]
    }
   ],
   "source": [
    "json = r.json()\n",
    "print(json)"
   ]
  },
  {
   "cell_type": "code",
   "execution_count": 8,
   "metadata": {},
   "outputs": [
    {
     "data": {
      "text/plain": [
       "dict_keys(['date', 'explanation', 'media_type', 'service_version', 'title', 'url'])"
      ]
     },
     "execution_count": 8,
     "metadata": {},
     "output_type": "execute_result"
    }
   ],
   "source": [
    "json.keys()"
   ]
  },
  {
   "cell_type": "code",
   "execution_count": 10,
   "metadata": {},
   "outputs": [],
   "source": [
    "date = json['date']\n",
    "explanation = json['explanation']\n",
    "media_type = json['media_type']\n",
    "service_version = json['service_version']\n",
    "title = json['title']\n",
    "url = json['url']"
   ]
  },
  {
   "cell_type": "code",
   "execution_count": 11,
   "metadata": {},
   "outputs": [
    {
     "name": "stdout",
     "output_type": "stream",
     "text": [
      "2019-05-06 What would it look like to fly over a spiral galaxy? To help visualize this, astronomers and animators at the Space Telescope Science Institute computed a virtual flyby of the Whirlpool Galaxy (M51) using data and images from the Hubble Space Telescope.  At only 25 million light years distant and fully 50 thousand light years across, the Whirlpool is one of the brightest and most picturesque galaxies on the sky. Visible during the virtual flyby are spiral arms dominated by young blue stars, older lighter-colored stars, dark lanes of dust, and bright red emission nebulae. Many galaxies far in the distance can be seen right through M51.  The visualization should be considered a time-lapse, because otherwise the speed of the virtual camera would need to be very near the speed of light. video v1 Virtual Flyby of the Whirlpool Galaxy https://www.youtube.com/embed/HBhqr0KkntQ?rel=0\n"
     ]
    }
   ],
   "source": [
    "print(date,explanation,media_type,service_version,title,url)"
   ]
  },
  {
   "cell_type": "code",
   "execution_count": 32,
   "metadata": {},
   "outputs": [
    {
     "name": "stdout",
     "output_type": "stream",
     "text": [
      "2019-05-06\n",
      "What would it look like to fly over a spiral galaxy? To help visualize this, astronomers and animators at the Space Telescope Science Institute computed a virtual flyby of the Whirlpool Galaxy (M51) using data and images from the Hubble Space Telescope.  At only 25 million light years distant and fully 50 thousand light years across, the Whirlpool is one of the brightest and most picturesque galaxies on the sky. Visible during the virtual flyby are spiral arms dominated by young blue stars, older lighter-colored stars, dark lanes of dust, and bright red emission nebulae. Many galaxies far in the distance can be seen right through M51.  The visualization should be considered a time-lapse, because otherwise the speed of the virtual camera would need to be very near the speed of light.\n",
      "video\n",
      "v1\n",
      "Virtual Flyby of the Whirlpool Galaxy\n",
      "https://www.youtube.com/embed/HBhqr0KkntQ?rel=0\n"
     ]
    }
   ],
   "source": [
    "print(date)\n",
    "print(explanation)\n",
    "print(media_type)\n",
    "print(service_version)\n",
    "print(title)\n",
    "print(url)"
   ]
  },
  {
   "cell_type": "code",
   "execution_count": 33,
   "metadata": {},
   "outputs": [
    {
     "name": "stdout",
     "output_type": "stream",
     "text": [
      "['2019-05-06', 'What would it look like to fly over a spiral galaxy? To help visualize this, astronomers and animators at the Space Telescope Science Institute computed a virtual flyby of the Whirlpool Galaxy (M51) using data and images from the Hubble Space Telescope.  At only 25 million light years distant and fully 50 thousand light years across, the Whirlpool is one of the brightest and most picturesque galaxies on the sky. Visible during the virtual flyby are spiral arms dominated by young blue stars, older lighter-colored stars, dark lanes of dust, and bright red emission nebulae. Many galaxies far in the distance can be seen right through M51.  The visualization should be considered a time-lapse, because otherwise the speed of the virtual camera would need to be very near the speed of light.', 'video', 'v1', 'Virtual Flyby of the Whirlpool Galaxy', 'https://www.youtube.com/embed/HBhqr0KkntQ?rel=0']\n"
     ]
    }
   ],
   "source": [
    "data = [date,explanation,media_type,service_version,title,url]\n",
    "print(data)"
   ]
  },
  {
   "cell_type": "code",
   "execution_count": 34,
   "metadata": {},
   "outputs": [],
   "source": [
    "import pandas as pd\n",
    "df = pd.DataFrame(data)"
   ]
  },
  {
   "cell_type": "code",
   "execution_count": 35,
   "metadata": {},
   "outputs": [
    {
     "data": {
      "text/html": [
       "<div>\n",
       "<style scoped>\n",
       "    .dataframe tbody tr th:only-of-type {\n",
       "        vertical-align: middle;\n",
       "    }\n",
       "\n",
       "    .dataframe tbody tr th {\n",
       "        vertical-align: top;\n",
       "    }\n",
       "\n",
       "    .dataframe thead th {\n",
       "        text-align: right;\n",
       "    }\n",
       "</style>\n",
       "<table border=\"1\" class=\"dataframe\">\n",
       "  <thead>\n",
       "    <tr style=\"text-align: right;\">\n",
       "      <th></th>\n",
       "      <th>0</th>\n",
       "    </tr>\n",
       "  </thead>\n",
       "  <tbody>\n",
       "    <tr>\n",
       "      <th>0</th>\n",
       "      <td>2019-05-06</td>\n",
       "    </tr>\n",
       "    <tr>\n",
       "      <th>1</th>\n",
       "      <td>What would it look like to fly over a spiral g...</td>\n",
       "    </tr>\n",
       "    <tr>\n",
       "      <th>2</th>\n",
       "      <td>video</td>\n",
       "    </tr>\n",
       "    <tr>\n",
       "      <th>3</th>\n",
       "      <td>v1</td>\n",
       "    </tr>\n",
       "    <tr>\n",
       "      <th>4</th>\n",
       "      <td>Virtual Flyby of the Whirlpool Galaxy</td>\n",
       "    </tr>\n",
       "    <tr>\n",
       "      <th>5</th>\n",
       "      <td>https://www.youtube.com/embed/HBhqr0KkntQ?rel=0</td>\n",
       "    </tr>\n",
       "  </tbody>\n",
       "</table>\n",
       "</div>"
      ],
      "text/plain": [
       "                                                   0\n",
       "0                                         2019-05-06\n",
       "1  What would it look like to fly over a spiral g...\n",
       "2                                              video\n",
       "3                                                 v1\n",
       "4              Virtual Flyby of the Whirlpool Galaxy\n",
       "5    https://www.youtube.com/embed/HBhqr0KkntQ?rel=0"
      ]
     },
     "execution_count": 35,
     "metadata": {},
     "output_type": "execute_result"
    }
   ],
   "source": [
    "df"
   ]
  },
  {
   "cell_type": "code",
   "execution_count": 36,
   "metadata": {},
   "outputs": [],
   "source": [
    "data = [[date,explanation,media_type,service_version,title,url]]"
   ]
  },
  {
   "cell_type": "code",
   "execution_count": 37,
   "metadata": {},
   "outputs": [],
   "source": [
    "df = pd.DataFrame(data)"
   ]
  },
  {
   "cell_type": "code",
   "execution_count": 38,
   "metadata": {},
   "outputs": [
    {
     "data": {
      "text/html": [
       "<div>\n",
       "<style scoped>\n",
       "    .dataframe tbody tr th:only-of-type {\n",
       "        vertical-align: middle;\n",
       "    }\n",
       "\n",
       "    .dataframe tbody tr th {\n",
       "        vertical-align: top;\n",
       "    }\n",
       "\n",
       "    .dataframe thead th {\n",
       "        text-align: right;\n",
       "    }\n",
       "</style>\n",
       "<table border=\"1\" class=\"dataframe\">\n",
       "  <thead>\n",
       "    <tr style=\"text-align: right;\">\n",
       "      <th></th>\n",
       "      <th>0</th>\n",
       "      <th>1</th>\n",
       "      <th>2</th>\n",
       "      <th>3</th>\n",
       "      <th>4</th>\n",
       "      <th>5</th>\n",
       "    </tr>\n",
       "  </thead>\n",
       "  <tbody>\n",
       "    <tr>\n",
       "      <th>0</th>\n",
       "      <td>2019-05-06</td>\n",
       "      <td>What would it look like to fly over a spiral g...</td>\n",
       "      <td>video</td>\n",
       "      <td>v1</td>\n",
       "      <td>Virtual Flyby of the Whirlpool Galaxy</td>\n",
       "      <td>https://www.youtube.com/embed/HBhqr0KkntQ?rel=0</td>\n",
       "    </tr>\n",
       "  </tbody>\n",
       "</table>\n",
       "</div>"
      ],
      "text/plain": [
       "            0                                                  1      2   3  \\\n",
       "0  2019-05-06  What would it look like to fly over a spiral g...  video  v1   \n",
       "\n",
       "                                       4  \\\n",
       "0  Virtual Flyby of the Whirlpool Galaxy   \n",
       "\n",
       "                                                 5  \n",
       "0  https://www.youtube.com/embed/HBhqr0KkntQ?rel=0  "
      ]
     },
     "execution_count": 38,
     "metadata": {},
     "output_type": "execute_result"
    }
   ],
   "source": [
    "df"
   ]
  },
  {
   "cell_type": "code",
   "execution_count": 39,
   "metadata": {},
   "outputs": [],
   "source": [
    "df = df.rename(columns={0:\"Date\",1:\"Explaination\",2:\"MediaType\",3:\"ServiceVersion\",4:\"Title\",5:\"URL\"})"
   ]
  },
  {
   "cell_type": "code",
   "execution_count": 40,
   "metadata": {},
   "outputs": [
    {
     "data": {
      "text/html": [
       "<div>\n",
       "<style scoped>\n",
       "    .dataframe tbody tr th:only-of-type {\n",
       "        vertical-align: middle;\n",
       "    }\n",
       "\n",
       "    .dataframe tbody tr th {\n",
       "        vertical-align: top;\n",
       "    }\n",
       "\n",
       "    .dataframe thead th {\n",
       "        text-align: right;\n",
       "    }\n",
       "</style>\n",
       "<table border=\"1\" class=\"dataframe\">\n",
       "  <thead>\n",
       "    <tr style=\"text-align: right;\">\n",
       "      <th></th>\n",
       "      <th>Date</th>\n",
       "      <th>Explaination</th>\n",
       "      <th>MediaType</th>\n",
       "      <th>ServiceVersion</th>\n",
       "      <th>Title</th>\n",
       "      <th>URL</th>\n",
       "    </tr>\n",
       "  </thead>\n",
       "  <tbody>\n",
       "    <tr>\n",
       "      <th>0</th>\n",
       "      <td>2019-05-06</td>\n",
       "      <td>What would it look like to fly over a spiral g...</td>\n",
       "      <td>video</td>\n",
       "      <td>v1</td>\n",
       "      <td>Virtual Flyby of the Whirlpool Galaxy</td>\n",
       "      <td>https://www.youtube.com/embed/HBhqr0KkntQ?rel=0</td>\n",
       "    </tr>\n",
       "  </tbody>\n",
       "</table>\n",
       "</div>"
      ],
      "text/plain": [
       "         Date                                       Explaination MediaType  \\\n",
       "0  2019-05-06  What would it look like to fly over a spiral g...     video   \n",
       "\n",
       "  ServiceVersion                                  Title  \\\n",
       "0             v1  Virtual Flyby of the Whirlpool Galaxy   \n",
       "\n",
       "                                               URL  \n",
       "0  https://www.youtube.com/embed/HBhqr0KkntQ?rel=0  "
      ]
     },
     "execution_count": 40,
     "metadata": {},
     "output_type": "execute_result"
    }
   ],
   "source": [
    "df"
   ]
  },
  {
   "cell_type": "code",
   "execution_count": 41,
   "metadata": {},
   "outputs": [],
   "source": [
    "df.to_csv('json.csv')"
   ]
  },
  {
   "cell_type": "code",
   "execution_count": 42,
   "metadata": {},
   "outputs": [],
   "source": [
    "df.to_excel('json.xlsx')"
   ]
  }
 ],
 "metadata": {
  "kernelspec": {
   "display_name": "Python 3",
   "language": "python",
   "name": "python3"
  },
  "language_info": {
   "codemirror_mode": {
    "name": "ipython",
    "version": 3
   },
   "file_extension": ".py",
   "mimetype": "text/x-python",
   "name": "python",
   "nbconvert_exporter": "python",
   "pygments_lexer": "ipython3",
   "version": "3.6.8"
  }
 },
 "nbformat": 4,
 "nbformat_minor": 2
}
